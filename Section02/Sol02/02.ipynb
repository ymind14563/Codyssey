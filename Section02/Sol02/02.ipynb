{
 "cells": [
  {
   "cell_type": "markdown",
   "metadata": {},
   "source": [
    "## MRD 데이터셋 탐색\n",
    "### 수행단계\n",
    "\n",
    "- KMRD 데이터 다운로드 (https://github.com/lovit/kmrd/tree/master/kmr_dataset/datafile/kmrd-small)\n",
    "kmr_dataset/datafile/kmrd-small 폴더에 필요한 데이터가 있다.\n",
    "- KMRD 데이터 준비 및 로딩\n",
    "- 각 파일에는 어떤 데이터가 저장되어 있고 어떤 데이터 필드로 구성되어 있는지 파악하라.\n",
    "- Pandas를 이용해서 데이터를 로딩해서 데이터를 확인하라.\n",
    "- 사용자 수, 영화 수, 평점 수, 제작국가 수, 출연진 수, 장르 개수 등의 기본 통계를 확인하라."
   ]
  },
  {
   "cell_type": "markdown",
   "metadata": {},
   "source": [
    "- movies.txt (movie, title, title_eng, year, grade)\n",
    "- casting.csv (movie, people, order, leading)\n",
    "- countries.csv (movie, country)\n",
    "- genres.csv (movie, genre)\n",
    "- peoples.txt (people, korean, original)\n",
    "- rates.csv (user,movie,rate,time)"
   ]
  },
  {
   "cell_type": "code",
   "execution_count": null,
   "metadata": {},
   "outputs": [
    {
     "name": "stdout",
     "output_type": "stream",
     "text": [
      "영화 수: 999\n",
      "중복 제외 등록 된 유저 수: 52028\n",
      "등록 된 평점(리뷰) 수: 140710\n",
      "중복 제외 등록 된 국가 수: 36\n",
      "등록 된 국가 중 TOP 3: 미국: 654 / 영국: 94 / 한국: 94\n",
      "등록 된 출연진 수: 7172\n",
      "중복 제외 등록된 장르 수: 20\n"
     ]
    }
   ],
   "source": [
    "import pandas as pd\n",
    "movies = pd.read_csv('kmrd-small/movies.txt', sep = \"\\t\", engine='python') # sep = \"\\t\" 행에서 컬럼 데이터간 구분을 tab 기호를 활용했다는 의미 (탭으로 분리된 파일은  tsv 라고 함, tab-separated values 의 약자)\n",
    "users = pd.read_csv('kmrd-small/rates.csv')\n",
    "countries = pd.read_csv('kmrd-small/countries.csv')\n",
    "people = pd.read_csv('kmrd-small/peoples.txt', sep = \"\\t\", engine='python')\n",
    "genres = pd.read_csv('kmrd-small/genres.csv')\n",
    "\n",
    "movies.head(100)\n",
    "print(f\"영화 수: { len(movies) }\")\n",
    "print(f\"중복 제외 등록 된 유저 수: { users['user'].nunique()}\")\n",
    "print(f\"등록 된 평점(리뷰) 수: { len(users) }\")\n",
    "print(f\"중복 제외 등록 된 국가 수: { countries['country'].nunique() }\")\n",
    "\n",
    "top_3_countries = country['country'].value_counts().head(3)\n",
    "result = \" / \".join([f\"{country}: {count}\" for country, count in top_3_countries.items()])\n",
    "print(f\"등록 된 국가 중 TOP 3: {result}\")\n",
    "\n",
    "print(f\"등록 된 출연진 수: { len(people) }\")\n",
    "print(f\"중복 제외 등록된 장르 수: { genres['genre'].nunique()}\") # '멜로/로맨스' 도 장르 한 개로 취급 (멜로, 로맨스만 등록 된 영화 없음)\n"
   ]
  },
  {
   "cell_type": "code",
   "execution_count": 45,
   "metadata": {},
   "outputs": [
    {
     "name": "stdout",
     "output_type": "stream",
     "text": [
      "출연진이 가장 많이 등록된 영화의 Id: 10924\n",
      "출연진이 가장 많이 등록된 영화의 제목: 세계사\n",
      "출연진이 가장 많이 등록된 영화의 출연진 수: 101\n",
      "---------\n",
      "주연 배우가 가장 많이 등록된 영화의 Id: 10177\n",
      "주연 배우가 가장 많이 등록된 영화의 제목: 남과 북 2\n",
      "주연 배우가 가장 많이 등록된 영화의 주연 배우 수: 17\n"
     ]
    }
   ],
   "source": [
    "# 영화에서 가장 많은 출연진과 가장 많은 주연배우(people, leading)가 등록된 영화의 제목 찾기\n",
    "\n",
    "# 데이터 불러오기\n",
    "casting = pd.read_csv('kmrd-small/castings.csv')\n",
    "\n",
    "# 영화별 출연진 수 계산\n",
    "movie_cast_count = casting.groupby('movie')['people'].count()\n",
    "\n",
    "# 영화별 주연배우 수 계산\n",
    "movie_cast_leading_count = casting.groupby('movie')['leading'].sum()\n",
    "\n",
    "# 출연진이 가장 많이 등록된 영화 Id 찾기\n",
    "most_people_movie_id = movie_cast_count.idxmax() # idmax() 는 max()를 가지는 인덱스 값\n",
    "\n",
    "# 주연배우가 가장 많이 등록된 영화 Id 찾기\n",
    "most_cast_leading_id = movie_cast_leading_count.idxmax()\n",
    "\n",
    "# 출연진이 가장 많이 등록된 영화 Id의 제목 찾기\n",
    "most_people_movie_title = movies.loc[movies['movie'] == most_people_movie_id, 'title'].values[0]\n",
    "\n",
    "# 주연 배우가 가장 많이 등록된 영화 Id의 제목 찾기\n",
    "most_leading_movie_title = movies.loc[movies['movie'] == most_cast_leading_id, 'title'].values[0]\n",
    "\n",
    "# 결과 출력\n",
    "print(f\"출연진이 가장 많이 등록된 영화의 Id: { most_people_movie_id }\")\n",
    "print(f\"출연진이 가장 많이 등록된 영화의 제목: { most_people_movie_title }\")\n",
    "print(f\"출연진이 가장 많이 등록된 영화의 출연진 수: { movie_cast_count.max() }\")\n",
    "print('---------')\n",
    "print(f\"주연 배우가 가장 많이 등록된 영화의 Id: { most_cast_leading_id }\")\n",
    "print(f\"주연 배우가 가장 많이 등록된 영화의 제목: { most_leading_movie_title }\")\n",
    "print(f\"주연 배우가 가장 많이 등록된 영화의 주연 배우 수: { movie_cast_leading_count.max() }\")\n"
   ]
  }
 ],
 "metadata": {
  "kernelspec": {
   "display_name": "Python 3",
   "language": "python",
   "name": "python3"
  },
  "language_info": {
   "codemirror_mode": {
    "name": "ipython",
    "version": 3
   },
   "file_extension": ".py",
   "mimetype": "text/x-python",
   "name": "python",
   "nbconvert_exporter": "python",
   "pygments_lexer": "ipython3",
   "version": "3.12.7"
  }
 },
 "nbformat": 4,
 "nbformat_minor": 2
}
