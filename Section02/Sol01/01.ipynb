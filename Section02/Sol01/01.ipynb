{
 "cells": [
  {
   "cell_type": "markdown",
   "metadata": {},
   "source": [
    "## 영화 관련 데이터셋 확인\n",
    "### 수행단계\n",
    "MovieLens/KMRD/Netflix\n",
    "각 데이터에서 제공하는 항목이 개발하려고 하는 추천 시스템에서 활용하기 쉬운지 파악한다.\n",
    "(영화, 사용자, 장르, 출연배우, 제작국가, 제작일, 출시일, 평점, 평가일 등)"
   ]
  },
  {
   "cell_type": "markdown",
   "metadata": {},
   "source": [
    "### 1. MovieLens (https://grouplens.org/datasets/movielens/)\n",
    "- movies.csv (movieId,title,genres) \n",
    "- tags.csv (userId,movieId,tag,timestamp)\n",
    "- ratings.csv (userId,movieId,rating,timestamp)"
   ]
  },
  {
   "cell_type": "markdown",
   "metadata": {},
   "source": [
    "### 2. KMRD (https://github.com/lovit/kmrd)\n",
    "- movies.txt (movie idx, Korean title, English title, first open year, grade)\n",
    "- peoples.txt (people id, Korean name, English name)\n",
    "- castings.csv (movie id, people id, credit order, leading role)\n",
    "- ratings.csv (user index, movie id, rate, time)\n",
    "- countries.csv (movie id, country)\n",
    "- genres.csv (movie id, genre)"
   ]
  },
  {
   "cell_type": "markdown",
   "metadata": {},
   "source": [
    "### 3. Netflix (https://archive.org/details/nf_prize_dataset.tar)\n",
    "- training_set.tar (CustomerID,Rating,Date)\n",
    "- movie_titles.txt (MovieID,YearOfRelease,Title)\n",
    "- qualifying.txt - 추천 시스템의 예측 성능을 평가하기 위한 데이터.\n",
    "    MovieID: 영화 ID. CustomerID, Date: 고객 ID와 평가 날짜가 제공되며, 평점은 비공개.\n",
    "\n",
    "    format:\n",
    "    ```\n",
    "    MovieID1:\n",
    "    CustomerID11,Date11\n",
    "    CustomerID12,Date12\n",
    "    \n",
    "    ```\n",
    "    \n",
    "- probe.txt - 모델 테스트를 위한 데이터.\n",
    "    MovieID: 영화 ID. CustomerID: 고객 ID만 제공되며, 평점은 training_set에서 참조 가능.\n",
    "    \n",
    "    format:\n",
    "    ```\n",
    "    MovieID1:\n",
    "    CustomerID11\n",
    "    CustomerID12\n",
    "    ```\n",
    "\n"
   ]
  }
 ],
 "metadata": {
  "language_info": {
   "name": "python"
  }
 },
 "nbformat": 4,
 "nbformat_minor": 2
}
