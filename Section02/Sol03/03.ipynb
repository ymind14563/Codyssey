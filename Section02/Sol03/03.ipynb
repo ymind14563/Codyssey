{
 "cells": [
  {
   "cell_type": "markdown",
   "metadata": {},
   "source": [
    "## 결측치, 이상치 확인 및 시각화\n",
    "### 수행단계\n",
    "- 데이터의 결측치 및 이상치 확인\n",
    "    - 데이터에 결측치가 있는지 확인하고 처리하라.\n",
    "    - 데이터에 이상치가 있는지 확인하고 처리하라.\n",
    "- 시각화를 통한 탐색\n",
    "    - 사용자별/영화별 평점 분포를 히스토그램, 박스 플롯 등으로 시각화하라. (Histogram)\n",
    "    - 가장 많이 평가된 영화, 가장 높은 평균 평점을 받은 영화 등의 리스트를 확인하라.\n",
    "    - 시간에 따른 평점의 변화나 패턴을 라인 플롯으로 확인하라. (Line chart)"
   ]
  }
 ],
 "metadata": {
  "kernelspec": {
   "display_name": "Python 3",
   "language": "python",
   "name": "python3"
  },
  "language_info": {
   "codemirror_mode": {
    "name": "ipython",
    "version": 3
   },
   "file_extension": ".py",
   "mimetype": "text/x-python",
   "name": "python",
   "nbconvert_exporter": "python",
   "pygments_lexer": "ipython3",
   "version": "3.12.7"
  }
 },
 "nbformat": 4,
 "nbformat_minor": 2
}
