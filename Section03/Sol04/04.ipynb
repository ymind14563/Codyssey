{
 "cells": [
  {
   "cell_type": "markdown",
   "metadata": {},
   "source": [
    "### 수행단계\n",
    "- 아래 데이터를 활용해서 추천 개수에 따라 달라지는 정밀도와 재현율을 확인한다.\n",
    "- 데이터는 KMRD-small 데이터에서 사용자별 평가를 10개만 한 사용자와 영화별 평점 개수가 [60, 200)인 영화를 간추린 내용 중 일부이다.\n",
    "- K개의 영화를 추천 했을 경우 사용자가 관심 있는 영화 비율을 Precision@K 라고 한다. (TP / (TP + FP))\n",
    "- 사용자가 관심 있는 영화 중 추천한 영화 K개가 포함되는 비율을 Recall@K 라고 한다. (TP / (TP + FN))\n",
    "(가위손, 나 홀로 집에, 대부, 사운드 오브 뮤직) 4개 영화를 추천했다고 했을 경우 사용자별 정밀도와 재현율을 계산해본다."
   ]
  },
  {
   "cell_type": "markdown",
   "metadata": {},
   "source": [
    "<!-- Precision@K와 Recall@K 정의\n",
    "\n",
    "1. Precision@K (정밀도): 추천한 영화들 중 사용자가 실제로 평가한 영화의 비율\n",
    "공식: Precision@K = TP / (TP + FP)\n",
    "TP (True Positive): 추천한 영화 중 사용자가 평가한 영화\n",
    "FP (False Positive): 추천한 영화 중 사용자가 평가하지 않은 영화\n",
    "\n",
    "2. Recall@K (재현율): 사용자가 실제로 평가한 영화 중 추천된 영화의 비율\n",
    "공식: Recall@K = TP / (TP + FN)\n",
    "TP (True Positive): 추천한 영화 중 사용자가 평가한 영화\n",
    "FN (False Negative): 사용자가 평가한 영화 중 추천되지 않은 영화 -->"
   ]
  },
  {
   "cell_type": "code",
   "execution_count": 10,
   "metadata": {},
   "outputs": [
    {
     "name": "stdout",
     "output_type": "stream",
     "text": [
      "     사용자  Precision@K (정밀도)  Recall@K (재현율)\n",
      "0   1917               0.75        0.428571\n",
      "1  10418               0.75        0.600000\n",
      "2   1980               1.00        0.666667\n",
      "3   2277               0.75        0.500000\n",
      "4   1805               0.75        0.428571\n",
      "5   5136               0.75        0.500000\n",
      "6   1561               0.50        0.333333\n",
      "7   1105               0.75        0.600000\n",
      "8   1312               0.50        0.400000\n",
      "9   3189               0.50        0.333333\n"
     ]
    }
   ],
   "source": [
    "import pandas as pd\n",
    "\n",
    "csv_file_path = 'movie_ratings_with_users.csv' \n",
    "\n",
    "df = pd.read_csv(csv_file_path)\n",
    "\n",
    "# 추천 영화 리스트\n",
    "recommended_movies = [\"가위손\", \"나 홀로 집에\", \"대부\", \"사운드 오브 뮤직\"]\n",
    "\n",
    "# Precision@K와 Recall@K를 계산할 함수\n",
    "def calculate_precision_recall(df, recommended_movies, user_index):\n",
    "    # 사용자 데이터 (해당 사용자가 평가한 영화 리스트 중 추천된 영화만 추출)\n",
    "    user_data = df.iloc[user_index, 1:].values\n",
    "    recommended_data = df.iloc[user_index][recommended_movies].values\n",
    "    \n",
    "    # Precision@K 계산\n",
    "    # True Positive (TP): 추천된 영화 중 실제로 평가한 영화\n",
    "    TP = sum((recommended_data == 1))\n",
    "    # False Positive (FP): 추천된 영화 중 실제로 평가하지 않은 영화\n",
    "    FP = len(recommended_data) - TP\n",
    "    \n",
    "    # Precision@K = TP / (TP + FP)\n",
    "    precision = TP / (TP + FP) if (TP + FP) != 0 else 0\n",
    "    \n",
    "    # Recall@K 계산\n",
    "    # 사용자 평가 데이터에서 추천된 영화만 추출\n",
    "    user_interested = sum(user_data)\n",
    "    FN = user_interested - TP  # False Negative: 관심 있지만 추천되지 않은 영화\n",
    "    \n",
    "    # Recall@K = TP / (TP + FN)\n",
    "    recall = TP / (TP + FN) if (TP + FN) != 0 else 0\n",
    "    \n",
    "    return precision, recall\n",
    "\n",
    "# 사용자별 Precision@K와 Recall@K 계산\n",
    "precision_list = []\n",
    "recall_list = []\n",
    "\n",
    "for user_index in range(df.shape[0]):\n",
    "    precision, recall = calculate_precision_recall(df, recommended_movies, user_index)\n",
    "    precision_list.append(precision)\n",
    "    recall_list.append(recall)\n",
    "\n",
    "results = pd.DataFrame({\n",
    "    \"사용자\": df.iloc[:, 0],\n",
    "    \"Precision@K (정밀도)\": precision_list,\n",
    "    \"Recall@K (재현율)\": recall_list\n",
    "})\n",
    "\n",
    "print(results)\n"
   ]
  }
 ],
 "metadata": {
  "kernelspec": {
   "display_name": "Python 3",
   "language": "python",
   "name": "python3"
  },
  "language_info": {
   "codemirror_mode": {
    "name": "ipython",
    "version": 3
   },
   "file_extension": ".py",
   "mimetype": "text/x-python",
   "name": "python",
   "nbconvert_exporter": "python",
   "pygments_lexer": "ipython3",
   "version": "3.9.12"
  }
 },
 "nbformat": 4,
 "nbformat_minor": 2
}
